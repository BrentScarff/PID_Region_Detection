{
 "cells": [
  {
   "cell_type": "code",
   "execution_count": 1,
   "metadata": {},
   "outputs": [],
   "source": [
    "import cv2\n",
    "import numpy as np\n",
    "from statistics import mean\n",
    "import pytesseract\n",
    "#from pytesseract import Output\n",
    "\n",
    "from imutils.object_detection import non_max_suppression"
   ]
  },
  {
   "cell_type": "code",
   "execution_count": 2,
   "metadata": {},
   "outputs": [],
   "source": [
    "# Read pictures\n",
    "imagePath = 'Tests/Capture.png'\n",
    "img = cv2.imread(imagePath)"
   ]
  },
  {
   "cell_type": "code",
   "execution_count": 3,
   "metadata": {},
   "outputs": [],
   "source": [
    "# Grayscale\n",
    "gray = cv2.cvtColor(img, cv2.COLOR_BGR2GRAY)\n",
    "vis = img.copy()\n",
    "orig = img.copy()\n",
    "\n",
    "# Calling MSER algorithm\n",
    "mser = cv2.MSER_create(_delta=5, _min_area=10, _max_area=100, _max_variation=0.1)\n",
    "regions, bboxes = mser.detectRegions(gray)  # Get the text area\n"
   ]
  },
  {
   "cell_type": "code",
   "execution_count": 4,
   "metadata": {},
   "outputs": [],
   "source": [
    "hulls = [cv2.convexHull(p.reshape(-1, 1, 2)) for p in regions]  # Drawing text areas\n",
    "area_pixels = [len(a) for a in regions]\n",
    "hull_areas = [cv2.contourArea(a) for a in hulls]\n",
    "cv2.polylines(img, hulls, 1, (0, 255, 0));\n",
    "\n",
    "#areas = [cv2.contourArea(a) for a in hulls]"
   ]
  },
  {
   "cell_type": "code",
   "execution_count": 5,
   "metadata": {},
   "outputs": [],
   "source": [
    "# Processing irregular detection boxes into rectangular boxes\n",
    "rect_list = []\n",
    "\n",
    "for contour in hulls:\n",
    "    x, y, w, h = cv2.boundingRect(contour)\n",
    "    cv2.rectangle(vis, (x, y), (x + w, y + h), (255, 255, 0), 1)\n",
    "    area = cv2.contourArea(contour)\n",
    "    rect_list.append([x, y, x + w, y + h]) \n",
    "\n",
    "cv2.imshow(\"hulls\", vis)\n",
    "cv2.waitKey(0)\n",
    "cv2.destroyAllWindows()\n",
    "#cv2.imwrite(\"pid3.png\", vis)"
   ]
  },
  {
   "cell_type": "code",
   "execution_count": 6,
   "metadata": {},
   "outputs": [],
   "source": [
    "def region_props(rect_array, region_areas, contour_area_array):\n",
    "    \"\"\"\n",
    "    Calculates region properties: aspect_ratio, rectangular area, solidity, extent.\n",
    "    \n",
    "    rect_array: numpy array of rectangular coordinates of form (x1, y1, y1, y2)\n",
    "    region_area_array: numpy array of region array.  Area being number of pixels in blob \n",
    "        returned by algorithm like MSER\n",
    "    contour_area_array: numpy array of contour areas.  e.g.cv2.controurArea(hulls)\n",
    "    \n",
    "    Returns: numpy areas for aspect_ratio, rectangular area, solidity, extent\n",
    "    \n",
    "         ------> X-COORD\n",
    "        |\n",
    "        |\n",
    "        |\n",
    "        V\n",
    "        Y-COORD\n",
    "    \n",
    "    \"\"\"\n",
    "    x1 = rect_array[:,0]\n",
    "    y1 = rect_array[:,1]\n",
    "    x2 = rect_array[:,2]\n",
    "    y2 = rect_array[:,3]\n",
    "\n",
    "    # Calculate region props\n",
    "    aspect_ratio = (x2 - x1) / (y2 - y1)\n",
    "    rect_areas = (x2 - x1) * (y2 - y1)\n",
    "    solidity = region_areas/(contour_area_array + 1e-10)\n",
    "    extent = (region_areas)/rect_areas \n",
    "    \n",
    "    return aspect_ratio, rect_areas, solidity, extent"
   ]
  },
  {
   "cell_type": "code",
   "execution_count": 7,
   "metadata": {},
   "outputs": [],
   "source": [
    "def props_filter(rect_array, aspect_ratio, solidity, extent):\n",
    "    \"\"\"\n",
    "    TODO: Make arguments optional, Pass filter settings (thresholds) to function \n",
    "    Applies a filter to rect_array removing areas that do not meet criteria.  \n",
    "    Often used with region_props function -> see region_props for property defintions\n",
    "    \n",
    "    rect_array: numpy array of rectangular coordinates of form (x1, y1, y1, y2)\n",
    "    aspect ratio: aspect ratio array corresponding to rectangles in rect_array\n",
    "    extent: extent array corresponding to rectangles in rect_array\n",
    "    solidity: solidity array corresponding to rectangles in rect_array\n",
    "    \n",
    "    Returns: filtered numpy array rect_array\n",
    "    \"\"\"\n",
    "    \n",
    "    # Apply filters based on region properties\n",
    "    aspect_filter = aspect_ratio > 3\n",
    "    extent_filter = (extent < 0.2) | (extent > 0.9)\n",
    "    solidity_filter = solidity < 0.3\n",
    "\n",
    "    rect_filter = rect_array[~aspect_filter & ~extent_filter & ~solidity_filter]\n",
    "    \n",
    "    return rect_filter"
   ]
  },
  {
   "cell_type": "code",
   "execution_count": 8,
   "metadata": {},
   "outputs": [],
   "source": [
    "rect_array = np.array(rect_list)\n",
    "hull_area_array = np.array(hull_areas)\n",
    "\n",
    "aspect_ratio, _, solidity, extent = region_props(rect_array, area_pixels, hull_area_array)\n",
    "\n",
    "rect_filter = props_filter(rect_array, aspect_ratio, solidity, extent)"
   ]
  },
  {
   "cell_type": "code",
   "execution_count": 9,
   "metadata": {},
   "outputs": [
    {
     "data": {
      "text/plain": [
       "True"
      ]
     },
     "execution_count": 9,
     "metadata": {},
     "output_type": "execute_result"
    }
   ],
   "source": [
    "# Creating filter on non text entities\n",
    "for rect in rect_filter:\n",
    "    x1, y1, x2, y2 = rect[0], rect[1], rect[2], rect[3]\n",
    "    cv2.rectangle(vis, (x1, y1), (x2, y2), (0, 0, 255), 1)\n",
    "    \n",
    "cv2.imshow(\"filter\", vis)\n",
    "cv2.waitKey(0)\n",
    "cv2.destroyAllWindows()\n",
    "#cv2.imwrite(\"pid4.png\", vis)"
   ]
  },
  {
   "cell_type": "code",
   "execution_count": 10,
   "metadata": {},
   "outputs": [],
   "source": [
    "idxs = np.argsort(rect_filter[:,0])\n",
    "sorted_rects = rect_filter[idxs]"
   ]
  },
  {
   "cell_type": "code",
   "execution_count": 11,
   "metadata": {},
   "outputs": [],
   "source": [
    "def horz_rect_merge(sorted_rects, x_threshold=20, h_fraction=0.5):\n",
    "    \"\"\" \n",
    "    Merges rectangle ROI's along in the horizontal axis\n",
    "\n",
    "    sorted_rects: rectangle numpy array sorted from top left corner to bottom right. \n",
    "        coordinates of (x1, y1, x2, y2)\n",
    "    x_threshold: how close in pixels the rects have to be to be merged.\n",
    "    h_fraction: fraction of box height that is allowable for rects to be merged in vertical\n",
    "        must be between 0 < h_fraction <= 1 (can technically be > 1)\n",
    "\n",
    "    Returns accepted_rects - list of merged rectangular coordinates\n",
    "    of form x1, y1, x2, y2\n",
    "\n",
    "    ------> X-COORD\n",
    "    |\n",
    "    |\n",
    "    |\n",
    "    V\n",
    "    Y-COORD\n",
    "        \n",
    "    \"\"\"\n",
    "\n",
    "    # Grab the coordinates of the bounding boxes\n",
    "    x1 = sorted_rects[:,0]\n",
    "    y1 = sorted_rects[:,1]\n",
    "    x2 = sorted_rects[:,2]\n",
    "    y2 = sorted_rects[:,3]\n",
    "    y_center = (y1 + y2) / 2\n",
    "    \n",
    "    rects_used = np.full((sorted_rects.shape[0]), False)\n",
    "\n",
    "    # Array of accepted rects\n",
    "    accepted_rects = []\n",
    "\n",
    "    # Iterate all initial bounding rects\n",
    "    for idx, box in enumerate(sorted_rects):\n",
    "        if (rects_used[idx] == False) and (idx < sorted_rects.shape[0]-1):\n",
    "\n",
    "            # Initialize current rect\n",
    "            curr_x_min = box[0] \n",
    "            curr_x_max = box[2]\n",
    "            curr_y_min = box[1]\n",
    "            curr_y_max = box[3]\n",
    "            curr_y_center = (curr_y_max + curr_y_min) / 2\n",
    "\n",
    "            # This bounding rect is used\n",
    "            rects_used[idx] = True\n",
    "\n",
    "            # Find the largest (x, y) coordinates for the start of the bounding box and \n",
    "            # the smallest (x, y) coordinates for the end of the bounding box\n",
    "            x_min = sorted_rects[idx+1:,0]\n",
    "            x_max = np.maximum(curr_x_max, x2[idx+1:])\n",
    "            y_max = np.maximum(curr_y_max, y2[idx+1:])\n",
    "            y_min = np.minimum(curr_y_min, y1[idx+1:])\n",
    "\n",
    "            # Check if distance between current rect and merge candidates is small enough\n",
    "            x_dist = x_min - curr_x_max #TODO UPDATE X_DIST ONCE MERGED...MAKE THIS INTO A FUNCTION AND RUN CONSECUTIVE TIMES\n",
    "            #y_dist = abs(curr_y_min - sorted_rects[idx+1:,1]) \n",
    "            y_dist = abs(curr_y_center - y_center[idx+1:])\n",
    "            y_threshold = (curr_y_max - curr_y_min) * h_fraction\n",
    "            \n",
    "            # TAKE THE DISTANCES < THRESH AND COMPUTE NEW BOUNDING BOX...\n",
    "            if (x_max[(x_dist < x_threshold) & (y_dist < y_threshold)].size != 0):\n",
    "                curr_x_max = np.max(x_max[(x_dist < x_threshold) & (y_dist < y_threshold)])\n",
    "                curr_y_max = np.max(y_max[(x_dist < x_threshold) & (y_dist < y_threshold)])\n",
    "                curr_y_min = np.min(y_min[(x_dist < x_threshold) & (y_dist < y_threshold)])\n",
    "\n",
    "            # Merge candidates (bounding rect) are used\n",
    "            rects_used[idx+1:] = np.where((x_dist < x_threshold) & (y_dist < y_threshold), True, rects_used[idx+1:])\n",
    "\n",
    "            # No more merge candidates possible, accept current rect\n",
    "            accepted_rects.append([curr_x_min, curr_y_min, curr_x_max, curr_y_max])\n",
    "\n",
    "        else:\n",
    "            continue\n",
    "\n",
    "    return accepted_rects"
   ]
  },
  {
   "cell_type": "code",
   "execution_count": 12,
   "metadata": {},
   "outputs": [
    {
     "data": {
      "text/plain": [
       "205"
      ]
     },
     "execution_count": 12,
     "metadata": {},
     "output_type": "execute_result"
    }
   ],
   "source": [
    "#TODO: determine why rects are still overlapping.  Seems to be related to the h_fraction variable - how to tune\n",
    "#TODO: Run tesseract or east detector\n",
    "\n",
    "accepted_rects = horz_rect_merge(sorted_rects, 20, 0.5)\n",
    "#accepted_rects = horz_rect_merge(np.array(accepted_rects), 15, 0.3)\n",
    "#accepted_rects = horz_rect_merge(np.array(accepted_rects), 0, 1)\n",
    "\n",
    "len(accepted_rects)"
   ]
  },
  {
   "cell_type": "code",
   "execution_count": 13,
   "metadata": {},
   "outputs": [],
   "source": [
    "for (startX, startY, endX, endY) in accepted_rects:\n",
    "    # draw the bounding box on the image\n",
    "    cv2.rectangle(vis, (startX, startY), (endX, endY), (255, 0, 155), 2)\n",
    "cv2.imshow(\"rects\", vis)\n",
    "cv2.waitKey(0)\n",
    "cv2.destroyAllWindows()"
   ]
  },
  {
   "cell_type": "code",
   "execution_count": 15,
   "metadata": {},
   "outputs": [
    {
     "data": {
      "text/plain": [
       "True"
      ]
     },
     "execution_count": 15,
     "metadata": {},
     "output_type": "execute_result"
    }
   ],
   "source": [
    "cv2.imwrite(\"Images/pid3.png\", vis)"
   ]
  },
  {
   "cell_type": "code",
   "execution_count": null,
   "metadata": {},
   "outputs": [],
   "source": []
  }
 ],
 "metadata": {
  "kernelspec": {
   "display_name": "Python 3",
   "language": "python",
   "name": "python3"
  },
  "language_info": {
   "codemirror_mode": {
    "name": "ipython",
    "version": 3
   },
   "file_extension": ".py",
   "mimetype": "text/x-python",
   "name": "python",
   "nbconvert_exporter": "python",
   "pygments_lexer": "ipython3",
   "version": "3.8.3"
  }
 },
 "nbformat": 4,
 "nbformat_minor": 4
}
